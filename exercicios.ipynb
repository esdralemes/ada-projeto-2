{
 "cells": [
  {
   "cell_type": "markdown",
   "source": [
    "# Faça um programa que olhe todos os itens de uma lista e diga quantos deles são pares."
   ],
   "metadata": {
    "collapsed": false
   },
   "id": "ab0bdd6decaf0a31"
  },
  {
   "cell_type": "code",
   "execution_count": 2,
   "outputs": [
    {
     "name": "stdout",
     "output_type": "stream",
     "text": [
      "A lista [1, 2, 3, 4, 5, 6, 7, 8, 9, 10] possui 5 números pares.\n"
     ]
    }
   ],
   "source": [
    "minha_lista = [1, 2, 3, 4, 5, 6, 7, 8, 9, 10]\n",
    "quantidade_de_pares = sum(1 for num in minha_lista if num % 2 == 0)\n",
    "\n",
    "print(f\"A lista {minha_lista} possui {quantidade_de_pares} números pares.\")\n"
   ],
   "metadata": {
    "collapsed": false,
    "ExecuteTime": {
     "end_time": "2023-11-26T15:14:06.382399Z",
     "start_time": "2023-11-26T15:14:06.350644800Z"
    }
   },
   "id": "60f1f115609b9b6d"
  },
  {
   "cell_type": "markdown",
   "source": [
    "# Faça um programa que imprima o maior número de uma lista, sem usar o método max()"
   ],
   "metadata": {
    "collapsed": false
   },
   "id": "bd24d1ac5b334d9e"
  },
  {
   "cell_type": "code",
   "execution_count": 3,
   "outputs": [
    {
     "name": "stdout",
     "output_type": "stream",
     "text": [
      "O maior número da lista [4, 8, 2, 10, 5, 3, 7] é: 10\n"
     ]
    }
   ],
   "source": [
    "minha_lista = [4, 8, 2, 10, 5, 3, 7]\n",
    "\n",
    "if not minha_lista:\n",
    "    print(\"A lista está vazia.\")\n",
    "else:\n",
    "    maior_numero = minha_lista[0]\n",
    "\n",
    "    for num in minha_lista:\n",
    "        if num > maior_numero:\n",
    "            maior_numero = num\n",
    "\n",
    "    print(f\"O maior número da lista {minha_lista} é: {maior_numero}\")\n"
   ],
   "metadata": {
    "collapsed": false,
    "ExecuteTime": {
     "end_time": "2023-11-26T15:16:29.399815700Z",
     "start_time": "2023-11-26T15:16:29.388322700Z"
    }
   },
   "id": "9df3b09f6cb5d58e"
  },
  {
   "cell_type": "markdown",
   "source": [
    "# Faça um Programa que peça as 4 notas bimestrais e mostre a média, usando listas."
   ],
   "metadata": {
    "collapsed": false
   },
   "id": "99be46db393543d5"
  },
  {
   "cell_type": "code",
   "execution_count": 4,
   "outputs": [
    {
     "name": "stdout",
     "output_type": "stream",
     "text": [
      "A média das notas é: 7.25\n"
     ]
    }
   ],
   "source": [
    "notas = [float(input(f\"Digite a nota do {i+1}º bimestre: \")) for i in range(4)]\n",
    "\n",
    "media = sum(notas) / len(notas)\n",
    "\n",
    "print(f\"A média das notas é: {media}\")\n"
   ],
   "metadata": {
    "collapsed": false,
    "ExecuteTime": {
     "end_time": "2023-11-26T15:17:53.025489900Z",
     "start_time": "2023-11-26T15:17:45.932934100Z"
    }
   },
   "id": "bf75d4fec9616b6c"
  },
  {
   "cell_type": "markdown",
   "source": [
    "# Considere que temos uma lista com os nomes de todos os alunos de uma turma, e outra com as notas, na mesma ordem. Como faríamos para acessar, simultaneamente, o nome de um aluno e a sua nota?"
   ],
   "metadata": {
    "collapsed": false
   },
   "id": "3dea5090543e9844"
  },
  {
   "cell_type": "code",
   "execution_count": 5,
   "outputs": [
    {
     "name": "stdout",
     "output_type": "stream",
     "text": [
      "Aluno: Alice, Nota: 8.5\n",
      "Aluno: Maria, Nota: 7.0\n",
      "Aluno: Sandro, Nota: 9.2\n",
      "Aluno: Luiz, Nota: 6.8\n"
     ]
    }
   ],
   "source": [
    "nomes_alunos = [\"Alice\", \"Maria\", \"Sandro\", \"Luiz\"]\n",
    "\n",
    "notas_alunos = [8.5, 7.0, 9.2, 6.8]\n",
    "\n",
    "for nome, nota in zip(nomes_alunos, notas_alunos):\n",
    "    print(f\"Aluno: {nome}, Nota: {nota}\")\n"
   ],
   "metadata": {
    "collapsed": false,
    "ExecuteTime": {
     "end_time": "2023-11-26T15:19:48.672315900Z",
     "start_time": "2023-11-26T15:19:48.646043800Z"
    }
   },
   "id": "95f4fdc6c3084003"
  },
  {
   "cell_type": "markdown",
   "source": [
    "# Para que a entrega de alimentos seja feita com qualidade por um serviço de delivery, é muito importante que as caixas de transporte utilizadas por entregadores tenham um revestimento térmico interno, para manter a temperatura dos alimentos. Muitos destes revestimentos são importados de países que utilizam diferentes escalas de temperatura, de modo que as especificações quanto às temperaturas de operação podem gerar confusão.\n",
    "\n",
    "Pensando nisso, escreva um código em Python que recebe um número (que possa ter casas decimais) e a escala de temperatura em que este valor se encontra e para qual ele deseja converter (Celsius, Kelvin ou Fahrenheit). Tanto na escala em que se encontra quanto para a que deseja converter, utilize as letras iniciais como entrada: Celsius - 'C', Kelvin - 'K' ou Fahrenheit - 'F'."
   ],
   "metadata": {
    "collapsed": false
   },
   "id": "205b207ab16093f6"
  },
  {
   "cell_type": "code",
   "execution_count": 12,
   "outputs": [
    {
     "name": "stdout",
     "output_type": "stream",
     "text": [
      "Conversão C -> F: 96.8\n",
      "Conversão C -> K: 291.0\n"
     ]
    }
   ],
   "source": [
    "def valida_opcoes(valor: str, opcoes: list) -> bool:\n",
    "    return valor in opcoes\n",
    "\n",
    "def verifica_zero_absoluto(valor: float, escala:str, operacoes:dict) -> bool:\n",
    "\n",
    "    if escala != 'K':\n",
    "        valor, = tuple(map(operacoes[escala]['K'], (valor,)))\n",
    "\n",
    "    return valor >= 0\n",
    "\n",
    "def obter_opcoes(opcoes, msg='Opções'):\n",
    "    msg = f\"{msg} ({' | '.join([f'{key} - {values}' for key, values in opcoes.items()])}):\"\n",
    "\n",
    "    while True:\n",
    "        valor = input(msg).upper()\n",
    "\n",
    "        if valida_opcoes(valor, opcoes.keys()):\n",
    "            break\n",
    "\n",
    "        msg = f'Entrada Inválida! As opções validas são {\", \".join(opcoes.keys())} \\n' + msg\n",
    "\n",
    "    return valor\n",
    "\n",
    "def obter_valor(msg='', func=float):\n",
    "\n",
    "    while True:\n",
    "        valor = input(msg)\n",
    "        try:\n",
    "            return list(map(func, [valor]))[0]\n",
    "        except ValueError:\n",
    "            msg = f'Entrada Inválida! {msg}'\n",
    "\n",
    "def menu():\n",
    "\n",
    "    opcoes = {'C': 'Celsius',\n",
    "              'F': 'Fahrenheit',\n",
    "              'K': 'Kelvin'}\n",
    "\n",
    "    escala_entrada = obter_opcoes(opcoes, 'Escolha a escala de entrada')\n",
    "    escala_saida = obter_opcoes(opcoes, 'Escolha a escala de saída')\n",
    "    temperatura = obter_valor('Entre com a temperatura: ')\n",
    "\n",
    "    return escala_entrada, escala_saida, temperatura\n",
    "\n",
    "#https://www.infoescola.com/fisica/conversao-de-escalas-termometricas/\n",
    "\n",
    "#sala1\n",
    "def kelvin_to_celsius(valor: float) -> float:\n",
    "\treturn valor - 273\n",
    "\n",
    "#sala2\n",
    "def kelvin_to_fahrenheit(valor: float) -> float:\n",
    "    return (valor - 273) * 1.8 + 32\n",
    "\n",
    "def celsius_to_kelvin(valor: float) -> float:\n",
    "    return valor + 273\n",
    "\n",
    "def celsius_to_fahrenheit(valor: float) -> float:\n",
    "    return 1.8 * valor + 32\n",
    "\n",
    "def fahrenheit_to_celsius(valor: float) -> float:\n",
    "    return (valor - 32) / 1.8\n",
    "\n",
    "def fahrenheit_to_kelvin(valor: float) -> float:\n",
    "    return (valor - 32) * 5/9 + 273\n",
    "\n",
    "def mesma_op(valor: float) -> float:\n",
    "    return valor\n",
    "\n",
    "OPERACOES = {'K': {\n",
    "                    'C': kelvin_to_celsius,\n",
    "                    'F': kelvin_to_fahrenheit,\n",
    "                    'K': mesma_op\n",
    "                },\n",
    "                'C': {\n",
    "                    'K': celsius_to_kelvin,\n",
    "                    'F': celsius_to_fahrenheit,\n",
    "                    'C': mesma_op\n",
    "                },\n",
    "                'F': {\n",
    "                    'C': fahrenheit_to_celsius,\n",
    "                    'K': fahrenheit_to_kelvin,\n",
    "                    'F': mesma_op\n",
    "                }\n",
    "            }\n",
    "\n",
    "escala_entrada, escala_saida, temperatura =  menu()\n",
    "\n",
    "temperatura_saida, = tuple(map(OPERACOES[escala_entrada][escala_saida], (temperatura,)))\n",
    "\n",
    "if verifica_zero_absoluto(temperatura_saida, escala_saida, OPERACOES):\n",
    "    print(f'Conversão {escala_entrada} -> {escala_saida}: {temperatura_saida}')\n",
    "else:\n",
    "    print('A temperatura informada está abaixo do zero absoluto!')\n",
    "\n",
    "while True:\n",
    "    escala_entrada, escala_saida, temperatura =  menu()\n",
    "\n",
    "    temperatura_saida, = tuple(map(OPERACOES[escala_entrada][escala_saida], (temperatura,)))\n",
    "\n",
    "    if verifica_zero_absoluto(temperatura_saida, escala_saida, OPERACOES):\n",
    "        print(f'Conversão {escala_entrada} -> {escala_saida}: {temperatura_saida}')\n",
    "    else:\n",
    "        print('A temperatura informada está abaixo do zero absoluto!')\n",
    "\n",
    "    if obter_opcoes({'S': 'Sim', 'N': 'Não'}, 'Deseja Sair') == 'S':\n",
    "        break\n"
   ],
   "metadata": {
    "collapsed": false,
    "ExecuteTime": {
     "end_time": "2023-11-26T15:34:20.353198900Z",
     "start_time": "2023-11-26T15:33:42.605376500Z"
    }
   },
   "id": "e48544a20817adbf"
  },
  {
   "cell_type": "code",
   "execution_count": null,
   "outputs": [],
   "source": [],
   "metadata": {
    "collapsed": false
   },
   "id": "5c24bb1a2c72efdd"
  }
 ],
 "metadata": {
  "kernelspec": {
   "display_name": "Python 3",
   "language": "python",
   "name": "python3"
  },
  "language_info": {
   "codemirror_mode": {
    "name": "ipython",
    "version": 2
   },
   "file_extension": ".py",
   "mimetype": "text/x-python",
   "name": "python",
   "nbconvert_exporter": "python",
   "pygments_lexer": "ipython2",
   "version": "2.7.6"
  }
 },
 "nbformat": 4,
 "nbformat_minor": 5
}
